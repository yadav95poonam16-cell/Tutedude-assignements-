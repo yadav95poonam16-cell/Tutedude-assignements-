{
  "nbformat": 4,
  "nbformat_minor": 0,
  "metadata": {
    "colab": {
      "provenance": [],
      "authorship_tag": "ABX9TyPq4UVIp9++91FnLCncxN7u",
      "include_colab_link": true
    },
    "kernelspec": {
      "name": "python3",
      "display_name": "Python 3"
    },
    "language_info": {
      "name": "python"
    }
  },
  "cells": [
    {
      "cell_type": "markdown",
      "metadata": {
        "id": "view-in-github",
        "colab_type": "text"
      },
      "source": [
        "<a href=\"https://colab.research.google.com/github/yadav95poonam16-cell/Tutedude-assignements-/blob/main/Assignement_3_Task1%262.ipynb\" target=\"_parent\"><img src=\"https://colab.research.google.com/assets/colab-badge.svg\" alt=\"Open In Colab\"/></a>"
      ]
    },
    {
      "cell_type": "markdown",
      "source": [
        "Task 1: Calculate Factorial Using a Function"
      ],
      "metadata": {
        "id": "GkZohCIpDN61"
      }
    },
    {
      "cell_type": "code",
      "execution_count": 1,
      "metadata": {
        "colab": {
          "base_uri": "https://localhost:8080/"
        },
        "id": "DL5pLUJyC7K-",
        "outputId": "0b143978-0398-431f-9261-43c015fa8b91"
      },
      "outputs": [
        {
          "output_type": "stream",
          "name": "stdout",
          "text": [
            "120\n"
          ]
        }
      ],
      "source": [
        "def factorial(n):\n",
        "  if n < 2:\n",
        "    return 1\n",
        "  else:\n",
        "    return n * (factorial(n-1))\n",
        "\n",
        "result = factorial(5)\n",
        "print(result)"
      ]
    },
    {
      "cell_type": "markdown",
      "source": [
        "Task 2: Using the Math Module for Calculations\n"
      ],
      "metadata": {
        "id": "TzIQ1GaXEBuZ"
      }
    },
    {
      "cell_type": "code",
      "metadata": {
        "colab": {
          "base_uri": "https://localhost:8080/"
        },
        "id": "1bef7887",
        "outputId": "9ded9197-49b5-4561-ce19-101eca22e9b8"
      },
      "source": [
        "import math\n",
        "\n",
        "# Get input from the user\n",
        "num_str = input(\"Enter a number: \")\n",
        "\n",
        "try:\n",
        "    # Convert the input to a float\n",
        "    # Calculate the square root\n",
        "    # Calculate the natural logarithm (log base e)\n",
        "    # Calculate the sine (in radians)\n",
        "    # Display the results\n",
        "\n",
        "    num = float(num_str)\n",
        "    square_root_result = math.sqrt(num)\n",
        "    natural_log_result = math.log(num)\n",
        "    sine_result = math.sin(num)\n",
        "\n",
        "    print(f\"The square root of {num} is: {square_root_result}\")\n",
        "    print(f\"The natural logarithm of {num} is: {natural_log_result}\")\n",
        "    print(f\"The sine of {num} is: {sine_result}\")\n",
        "\n",
        "except ValueError:\n",
        "    print(\"Invalid input. Please enter a valid number.\")\n",
        "except Exception as e:\n",
        "    print(f\"An error occurred: {e}\")"
      ],
      "execution_count": 15,
      "outputs": [
        {
          "output_type": "stream",
          "name": "stdout",
          "text": [
            "Enter a number: 25\n",
            "The square root of 25.0 is: 5.0\n",
            "The natural logarithm of 25.0 is: 3.2188758248682006\n",
            "The sine of 25.0 is: -0.13235175009777303\n"
          ]
        }
      ]
    }
  ]
}