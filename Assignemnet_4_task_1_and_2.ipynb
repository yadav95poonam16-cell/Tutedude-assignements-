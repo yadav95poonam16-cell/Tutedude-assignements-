{
  "nbformat": 4,
  "nbformat_minor": 0,
  "metadata": {
    "colab": {
      "provenance": [],
      "authorship_tag": "ABX9TyNrzM3DNynsJKVITyN9hhzc",
      "include_colab_link": true
    },
    "kernelspec": {
      "name": "python3",
      "display_name": "Python 3"
    },
    "language_info": {
      "name": "python"
    }
  },
  "cells": [
    {
      "cell_type": "markdown",
      "metadata": {
        "id": "view-in-github",
        "colab_type": "text"
      },
      "source": [
        "<a href=\"https://colab.research.google.com/github/yadav95poonam16-cell/Tutedude-assignements-/blob/main/Assignemnet_4_task_1_and_2.ipynb\" target=\"_parent\"><img src=\"https://colab.research.google.com/assets/colab-badge.svg\" alt=\"Open In Colab\"/></a>"
      ]
    },
    {
      "cell_type": "code",
      "source": [
        "#1:\n",
        "file1 = open('sample.txt', 'r')\n",
        "lines = file1.readlines()\n",
        "print(f\"Reading file content:\\nline 1: {lines[0].strip()}\\nLine 2: {lines[1].strip()}\")\n",
        "file1.close()"
      ],
      "metadata": {
        "colab": {
          "base_uri": "https://localhost:8080/"
        },
        "id": "nARklMAxnkgl",
        "outputId": "abb3c29d-a719-4302-e5ec-e17650eb5239"
      },
      "execution_count": 8,
      "outputs": [
        {
          "output_type": "stream",
          "name": "stdout",
          "text": [
            "Reading file content:\n",
            "line 1: This is a sample text file.\n",
            "Line 2: It contains multiple lines.\n"
          ]
        }
      ]
    },
    {
      "cell_type": "code",
      "source": [
        "#'''"
      ],
      "metadata": {
        "id": "uzPYPvVjEmxD"
      },
      "execution_count": null,
      "outputs": []
    },
    {
      "cell_type": "code",
      "metadata": {
        "colab": {
          "base_uri": "https://localhost:8080/"
        },
        "id": "668fa612",
        "outputId": "bf1d2c4e-3c39-44ef-8403-40da6b19e8f7"
      },
      "source": [
        "try:\n",
        "    file1 = open('Sample.txt', 'r')\n",
        "    lines = file1.readlines()\n",
        "    print(f\"Reading file content\\nline 1: {lines[0].strip()}\\nLine 2: {lines[1].strip()}\")\n",
        "    file1.close()\n",
        "except FileNotFoundError:\n",
        "    print(\"Error: The file 'Sample.txt' was not found.\")\n",
        "except IndexError:\n",
        "    print(\"Error: The file 'Sample.txt' was not found.\")"
      ],
      "execution_count": null,
      "outputs": [
        {
          "output_type": "stream",
          "name": "stdout",
          "text": [
            "Error: The file 'Sample.txt' was not found.\n"
          ]
        }
      ]
    }
  ]
}