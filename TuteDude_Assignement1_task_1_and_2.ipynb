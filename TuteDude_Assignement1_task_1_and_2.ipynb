{
  "nbformat": 4,
  "nbformat_minor": 0,
  "metadata": {
    "colab": {
      "provenance": [],
      "authorship_tag": "ABX9TyPTV5xVkgitllXwWqqUySJc",
      "include_colab_link": true
    },
    "kernelspec": {
      "name": "python3",
      "display_name": "Python 3"
    },
    "language_info": {
      "name": "python"
    }
  },
  "cells": [
    {
      "cell_type": "markdown",
      "metadata": {
        "id": "view-in-github",
        "colab_type": "text"
      },
      "source": [
        "<a href=\"https://colab.research.google.com/github/yadav95poonam16-cell/Tutedude-assignements-/blob/main/TuteDude_Assignement1_task_1_and_2.ipynb\" target=\"_parent\"><img src=\"https://colab.research.google.com/assets/colab-badge.svg\" alt=\"Open In Colab\"/></a>"
      ]
    },
    {
      "cell_type": "code",
      "execution_count": null,
      "metadata": {
        "id": "Ke5IAGjZplLo"
      },
      "outputs": [],
      "source": []
    },
    {
      "cell_type": "markdown",
      "source": [
        "Task 1: Perform Basic Mathematical Operations:\n",
        "\n",
        "Addition\n",
        "Subtraction\n",
        "Multiplication\n",
        "Division"
      ],
      "metadata": {
        "id": "y_CIHQc5p8wy"
      }
    },
    {
      "cell_type": "code",
      "source": [
        "num1 = float(input(\"Enter the first number: \"))\n",
        "num2 = float(input(\"Enter the second number: \"))\n",
        "\n",
        "print(f'addition = {int(num1 + num2)}')\n",
        "print(f'subtraction = {int(num1 - num2)}')\n",
        "print(f'multiplication = {int(num1 * num2)}')\n",
        "print(f'division = {num1 / num2}')"
      ],
      "metadata": {
        "colab": {
          "base_uri": "https://localhost:8080/"
        },
        "id": "5ZLNXLqsp_Yc",
        "outputId": "9968a80d-ba6a-429c-9f7b-dfc1dc2d54de"
      },
      "execution_count": 7,
      "outputs": [
        {
          "output_type": "stream",
          "name": "stdout",
          "text": [
            "Enter the first number: 5\n",
            "Enter the second number: 10\n",
            "addition = 15\n",
            "subtraction = -5\n",
            "multiplication = 50\n",
            "division = 0.5\n"
          ]
        }
      ]
    },
    {
      "cell_type": "markdown",
      "source": [
        "Task 2: Create a Personalized Greeting\n"
      ],
      "metadata": {
        "id": "eVFZy8aNqiot"
      }
    },
    {
      "cell_type": "code",
      "source": [],
      "metadata": {
        "id": "vTMrKrJvuMbK"
      },
      "execution_count": 2,
      "outputs": []
    },
    {
      "cell_type": "code",
      "source": [
        "first_name = input('First Name: ')\n",
        "last_name = input('Last Name: ')\n",
        "full_name = first_name + \" \" + last_name\n",
        "print(f'Hello {full_name}! Welcome to the Python program')"
      ],
      "metadata": {
        "colab": {
          "base_uri": "https://localhost:8080/"
        },
        "id": "eHgJI1M2sJD_",
        "outputId": "2ec8efbd-29f2-4327-ed87-b2ae3e4e1936"
      },
      "execution_count": null,
      "outputs": [
        {
          "output_type": "stream",
          "name": "stdout",
          "text": [
            "First Name: John\n",
            "Last Name: Doe\n",
            "Hello John Doe! Welcome to the Python program\n"
          ]
        }
      ]
    }
  ]
}